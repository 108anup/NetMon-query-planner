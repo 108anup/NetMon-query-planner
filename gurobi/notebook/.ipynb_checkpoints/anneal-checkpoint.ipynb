{
 "cells": [
  {
   "cell_type": "code",
   "execution_count": 1,
   "metadata": {},
   "outputs": [
    {
     "name": "stdout",
     "output_type": "stream",
     "text": [
      "/home/anupa/Netmon/NetMon-query-planner/gurobi\n"
     ]
    }
   ],
   "source": [
    "import sys\n",
    "import os\n",
    "changed_dir = False\n",
    "if(not changed_dir):\n",
    "    os.chdir(os.path.join(os.getcwd(), \"../\"))\n",
    "    sys.path.append(os.getcwd())\n",
    "    print(os.getcwd())\n",
    "    changed_dir = True"
   ]
  },
  {
   "cell_type": "code",
   "execution_count": 2,
   "metadata": {},
   "outputs": [
    {
     "name": "stderr",
     "output_type": "stream",
     "text": [
      "/home/anupa/miniconda3/envs/wbase/lib/python3.7/site-packages/sklearn/utils/deprecation.py:144: FutureWarning: The sklearn.cluster.spectral module is  deprecated in version 0.22 and will be removed in version 0.24. The corresponding classes / functions should instead be imported from sklearn.cluster. Anything that cannot be imported from sklearn.cluster is now part of the private API.\n",
      "  warnings.warn(message, FutureWarning)\n"
     ]
    }
   ],
   "source": [
    "import input\n",
    "from input import draw_overlay_over_tenant, draw_graph"
   ]
  },
  {
   "cell_type": "code",
   "execution_count": 3,
   "metadata": {},
   "outputs": [],
   "source": [
    "import numpy as np\n",
    "import random\n",
    "import math\n",
    "import time\n",
    "import ipdb\n",
    "import traceback\n",
    "\n",
    "from collections import namedtuple\n",
    "from input import TreeTopology, eps0, flatten\n",
    "from main import solve\n",
    "from config import common_config\n",
    "from common import setup_logging, Namespace\n",
    "import matplotlib.pyplot as plt\n",
    "from clos import Clos\n",
    "\n",
    "common_config.solver = 'Netmon'\n",
    "common_config.vertical_partition = True\n",
    "common_config.prog_dir = None\n",
    "common_config.perf_obj = True\n",
    "common_config.MAX_DEVICES_PER_CLUSTER = 8\n",
    "setup_logging(common_config)"
   ]
  },
  {
   "cell_type": "code",
   "execution_count": 54,
   "metadata": {},
   "outputs": [],
   "source": [
    "problem = TreeTopology(hosts_per_tors=8, num_queries=4*8, tenant=True,\n",
    "                       eps=eps0, overlay='none', refine=False,\n",
    "                       queries_per_tenant=8, portion_netronome=0)\n",
    "# problem = Clos(pods=16, overlay='none', query_density=1, portion_netronome=1)\n",
    "\n",
    "to_run = [('Optimal', 'none'), ('Spectral-comm', 'spectralA'), ('Spectral-topo', 'spectral'), \n",
    "          ('Multi-tenant', 'tenant'), ('Discretize', 'kmedoids')]\n",
    "\n",
    "# problem.overlay = 'none'\n",
    "# schemes.append(Scheme('Optimal', problem.get_input(), None))\n",
    "\n",
    "# problem.overlay = 'spectralA'\n",
    "# schemes.append(Scheme('Spectral-communication', problem.get_input(), None))\n",
    "\n",
    "# problem.overlay = 'spectral'\n",
    "# schemes.append(Scheme('Spectral-topology', problem.get_input(), None))"
   ]
  },
  {
   "cell_type": "code",
   "execution_count": 68,
   "metadata": {
    "scrolled": false
   },
   "outputs": [
    {
     "name": "stdout",
     "output_type": "stream",
     "text": [
      "Optimal 13909.92854142189\n",
      "Spectral-comm 14499.3220508701\n",
      "Spectral-topo 15590.041570368336\n",
      "Multi-tenant 14404.604786396023\n",
      "Discretize 14308.790387075616\n"
     ]
    }
   ],
   "source": [
    "num_runs = 10\n",
    "schemes = []\n",
    "Scheme = namedtuple('Scheme', ['name', 'inp', 'obj'])\n",
    "for s in to_run:\n",
    "    problem.overlay = s[1]\n",
    "    obj_count = 0\n",
    "    obj_sum = 0\n",
    "    for i in range(num_runs):\n",
    "        inp = problem.get_input()\n",
    "        r = solve(inp)\n",
    "        if(r):\n",
    "            obj_sum += r.results.res\n",
    "            obj_count += 1\n",
    "    obj = None\n",
    "    obj = obj_sum / obj_count\n",
    "    schemes.append(Scheme(s[0], inp, obj))\n",
    "    print(s[0], obj)"
   ]
  },
  {
   "cell_type": "code",
   "execution_count": 14,
   "metadata": {},
   "outputs": [],
   "source": [
    "'''\n",
    "Goal: Find best overlay for a given input\n",
    "'''\n",
    "problem.overlay = 'kmedoids'\n",
    "INP = problem.get_input()\n",
    "x0 = np.array(flatten(INP.overlay))\n",
    "# random.shuffle(x0)\n",
    "\n",
    "ELEMENTS_PER_PART = 8\n",
    "NITER = 500\n",
    "\n",
    "OPT = schemes[0].obj\n",
    "RANDOM = schemes[2].obj\n",
    "# OPT = 2105\n",
    "# SPECTRALA = 2134\n",
    "# TENANT = 2135\n",
    "# TOR = 2295\n",
    "# RANDOM = 2315\n",
    "\n",
    "TSTART = (RANDOM - OPT) / 2\n",
    "TSTOP = 5\n",
    "\n",
    "\n",
    "class Anneal():\n",
    "\n",
    "    def __init__(self, func, x0, Tstart, Tstop, take_step,\n",
    "                 alpha=0.995, niter=100, callback=None):\n",
    "        self.func = func\n",
    "        self.x0 = x0\n",
    "        self.Tstart = Tstart\n",
    "        self.Tstop = Tstop\n",
    "        self.niter = niter\n",
    "        self.take_step = take_step\n",
    "        self.alpha = alpha\n",
    "        self.callback = callback\n",
    "\n",
    "    def accept_reject(self, energy_new, energy_old):\n",
    "        if(energy_new is None):\n",
    "            return False\n",
    "        if(energy_new < energy_old):\n",
    "            return True\n",
    "        else:\n",
    "            # import ipdb; ipdb.set_trace()\n",
    "            # print(\"DeltaE: {}\".format(energy_new - energy_old))\n",
    "            # print(\"Exp: {}\".format( -(energy_new - energy_old)/self.T ))\n",
    "            # print(\"Prob: {}\".format(math.exp(\n",
    "            #     -(energy_new - energy_old)/self.T)))\n",
    "            return random.random() <= math.exp(\n",
    "                -(energy_new - energy_old)/self.T\n",
    "            )\n",
    "\n",
    "    def anneal(self):\n",
    "\n",
    "        x = self.x0\n",
    "        f = self.func(x)\n",
    "        if(getattr(self, 'callback', None)):\n",
    "            self.callback(x, f, True)\n",
    "\n",
    "        self.iteration = 0\n",
    "        self.T = self.Tstart\n",
    "        while self.T >= self.Tstop and self.iteration < self.niter:\n",
    "\n",
    "            x_after_step = np.copy(x)\n",
    "            x_after_step = self.take_step(x_after_step)\n",
    "            f_after_step = self.func(x_after_step)\n",
    "            accept = self.accept_reject(f_after_step, f)\n",
    "\n",
    "            if(getattr(self, 'callback', None)):\n",
    "                val = self.callback(x_after_step, f_after_step, accept)\n",
    "                if(val):\n",
    "                    break\n",
    "\n",
    "            if(accept):\n",
    "                f = f_after_step\n",
    "                x = x_after_step\n",
    "\n",
    "            self.T *= self.alpha\n",
    "            self.iteration += 1\n",
    "\n",
    "\n",
    "class TakeStep():\n",
    "    def __init__(self, stepsize=1):\n",
    "        self.stepsize = stepsize\n",
    "\n",
    "    def __call__(self, perm):\n",
    "        n = len(perm)\n",
    "        l = random.randint(2, int((n - 1) * self.stepsize))\n",
    "        i = random.randint(0, n - l)\n",
    "        perm = perm.tolist()\n",
    "        perm[i: (i + l)] = reversed(perm[i: (i + l)])\n",
    "        return np.array(perm)\n",
    "\n",
    "\n",
    "class Callback():\n",
    "    def __init__(self):\n",
    "        self.data = []\n",
    "        self.best = Namespace(x=x0, f=func(x0))\n",
    "\n",
    "    def __call__(self, x, f, accept):\n",
    "        print(x, f, accept)\n",
    "        self.data.append(tuple((x, f, accept)))\n",
    "        if(accept):\n",
    "            if(f is not None):\n",
    "                if(f < self.best.f):\n",
    "                    self.best.x = x\n",
    "                    self.best.f = f\n",
    "\n",
    "        if(f is not None):\n",
    "            if(abs(f - OPT) < TSTOP):\n",
    "                return True\n",
    "\n",
    "\n",
    "# No side effects\n",
    "def get_overlay_from_perm(perm):\n",
    "    n = len(perm)\n",
    "    split_parts = math.floor(n/ELEMENTS_PER_PART)\n",
    "    covered_elements = split_parts * ELEMENTS_PER_PART\n",
    "    splits = np.split(\n",
    "        perm[:covered_elements],\n",
    "        split_parts)\n",
    "    splits = [x.astype(int).tolist() for x in splits]\n",
    "    splits[-1].extend(perm[covered_elements:].astype(int).tolist())\n",
    "    return splits\n",
    "\n",
    "\n",
    "def func(perm):\n",
    "    INP.overlay = get_overlay_from_perm(perm)\n",
    "    # start = time.time()\n",
    "    r = solve(INP)\n",
    "    # print(ns, res)\n",
    "    # end = time.time()\n",
    "    if(r):\n",
    "        return r.results.res  # ((res + 10000) * ns)/1000\n",
    "    else:\n",
    "        return None"
   ]
  },
  {
   "cell_type": "code",
   "execution_count": null,
   "metadata": {},
   "outputs": [],
   "source": [
    "cb = Callback()\n",
    "ts = TakeStep()\n",
    "simanneal = Anneal(func, x0,\n",
    "                   take_step=ts, callback=cb, Tstart=TSTART, Tstop=TSTOP,\n",
    "                   niter=2000)\n",
    "simanneal.anneal()\n",
    "import pickle"
   ]
  },
  {
   "cell_type": "code",
   "execution_count": 71,
   "metadata": {
    "scrolled": true
   },
   "outputs": [
    {
     "name": "stdout",
     "output_type": "stream",
     "text": [
      "{'x': array([ 5,  1, 27, 30, 31,  4, 36, 32, 21, 20,  8, 18, 28,  2, 12, 34, 14,\n",
      "       25, 13,  7,  3, 33, 16, 19,  9, 10, 29, 24, 17,  0, 26, 23, 37, 22,\n",
      "       38, 11,  6, 15, 35]), 'f': 14308.40659737587}\n"
     ]
    }
   ],
   "source": [
    "cb_file = open('pickle_objs/cb-nsdi', 'wb')\n",
    "pickle.dump(cb, cb_file)\n",
    "cb_file.close()\n",
    "print(cb.best)"
   ]
  },
  {
   "cell_type": "code",
   "execution_count": 16,
   "metadata": {
    "scrolled": true
   },
   "outputs": [
    {
     "name": "stdout",
     "output_type": "stream",
     "text": [
      "[[1, 5, 14, 23, 26, 27, 28, 25], [19, 16, 13, 7, 3, 0, 38, 37], [36, 11, 15, 20, 21, 22, 24, 29], [2, 8, 9, 10, 12, 17, 18, 33, 34, 6, 4, 35, 31, 30, 32]]\n"
     ]
    },
    {
     "data": {
      "image/png": "[encoded data removed]",
      "text/plain": [
       "<Figure size 238.634x238.634 with 1 Axes>"
      ]
     },
     "metadata": {},
     "output_type": "display_data"
    }
   ],
   "source": [
    "get_overlay_from_perm(x0)\n",
    "ov = get_overlay_from_perm(cb.best.x)\n",
    "print(ov)\n",
    "\n",
    "INP.overlay = ov\n",
    "draw_overlay_over_tenant(INP)"
   ]
  },
  {
   "cell_type": "code",
   "execution_count": 17,
   "metadata": {},
   "outputs": [],
   "source": [
    "# common_config.MAX_DEVICES_PER_CLUSTER=8\n",
    "# specA = TreeTopology(hosts_per_tors=8, num_queries=4*8, tenant=True,\n",
    "#                     overlay='spectralA', refine=True,\n",
    "#                     queries_per_tenant=8).get_input()\n",
    "# draw_overlay_over_tenant(specA)"
   ]
  },
  {
   "cell_type": "code",
   "execution_count": 18,
   "metadata": {},
   "outputs": [],
   "source": [
    "# r = solve(specA)\n",
    "# r.results.res"
   ]
  },
  {
   "cell_type": "code",
   "execution_count": 22,
   "metadata": {
    "scrolled": true
   },
   "outputs": [],
   "source": [
    "cb_file = open('pickle_objs/cb-opt', 'rb')\n",
    "cb = pickle.load(cb_file)\n",
    "cb_file.close()"
   ]
  },
  {
   "cell_type": "code",
   "execution_count": 19,
   "metadata": {},
   "outputs": [],
   "source": [
    "# ten = TreeTopology(hosts_per_tors=8, num_queries=4*8, tenant=True,\n",
    "#             overlay='spectral', refine=True,\n",
    "#             queries_per_tenant=8).get_input()\n",
    "# draw_overlay_over_tenant(ten)"
   ]
  },
  {
   "cell_type": "code",
   "execution_count": 83,
   "metadata": {},
   "outputs": [],
   "source": [
    "from matplotlib.ticker import (MultipleLocator, FormatStrFormatter,\n",
    "                               AutoMinorLocator)\n",
    "import palettable\n",
    "FONT_SIZE = 8\n",
    "MARKER_SIZE = 6\n",
    "LINE_WIDTH = 1.5\n",
    "HANDLE_LENGTH = 2.5\n",
    "FIGURE_SIZE = (16/3, 9/3)\n",
    "colors = palettable.colorbrewer.qualitative.Paired_12.hex_colors\n",
    "colors_idxs = [1, 5, 3, 7, 9, 11]\n",
    "linestyles = ['-', '--']\n",
    "hatches = ['-', '\\\\\\\\', '', 'X']\n",
    "markers = ['x', '^', 'D', 'o', '.', 's']\n",
    "\n",
    "plt.rcParams.update({\n",
    "    'font.size': FONT_SIZE,\n",
    "    'lines.linewidth': LINE_WIDTH\n",
    "})\n",
    "plt.rc('pdf', fonttype=42)\n",
    "\n",
    "# https://jwalton.info/Embed-Publication-Matplotlib-Latex/\n",
    "\n",
    "def get_fig_size(col=1, height_frac=1):\n",
    "    width = LATEX_LINE_WIDTH_IN * col\n",
    "    height = width * GOLDEN_RATIO * height_frac\n",
    "    return (width, height)\n",
    "\n",
    "\n",
    "def pt2in(pt):\n",
    "    return pt/72.72\n",
    "\n",
    "\n",
    "LATEX_TEXT_WIDTH_PT = 505.89\n",
    "LATEX_TEXT_WIDTH_IN = pt2in(LATEX_TEXT_WIDTH_PT)\n",
    "LATEX_LINE_WIDTH_PT = 241.02039\n",
    "LATEX_LINE_WIDTH_IN = pt2in(LATEX_LINE_WIDTH_PT)\n",
    "GOLDEN_RATIO = (5**.5 - 1) / 2"
   ]
  },
  {
   "cell_type": "code",
   "execution_count": 89,
   "metadata": {},
   "outputs": [
    {
     "name": "stdout",
     "output_type": "stream",
     "text": [
      "Optimal 13909.92854142189\n",
      "Spectral-comm 14499.3220508701\n",
      "Spectral-topo 15590.041570368336\n",
      "Multi-tenant 14404.604786396023\n"
     ]
    },
    {
     "data": {
      "image/png": "[encoded data removed]",
      "text/plain": [
       "<Figure size 280.746x173.511 with 1 Axes>"
      ]
     },
     "metadata": {
      "needs_background": "light"
     },
     "output_type": "display_data"
    }
   ],
   "source": [
    "linestyles = ['-']*2 + ['--'] + ['-']*2 + ['--'] + ['-']*5\n",
    "anneal_obj = [(x[1]-OPT)*100/OPT for x in cb.data if x[2]]\n",
    "xs = list(range(len(anneal_obj)))\n",
    "for idx_1, s in enumerate(schemes):\n",
    "    idx = idx_1 + 1\n",
    "    if(idx == 5): \n",
    "        continue\n",
    "    ys = [(s.obj-OPT)*100/OPT for xxs in xs]\n",
    "    ax.plot(xs, ys, label=s.name, lw=LINE_WIDTH, linestyle=linestyles[idx], c=colors[colors_idxs[idx]])\n",
    "    print(s.name, s.obj)\n",
    "\n",
    "# cb.data.sort(key=lambda x: x[1])\n",
    "idx = 0\n",
    "plt.plot(xs, anneal_obj, label=\"Annealing\", lw=LINE_WIDTH, linestyle=linestyles[idx], c=colors[colors_idxs[idx]])\n",
    "\n",
    "\n",
    "ax.set_xlabel('Annealing iteration')\n",
    "ax.set_ylabel('Optimality Gap (%)')\n",
    "ax.spines['top'].set_color('none')\n",
    "ax.spines['right'].set_color('none')\n",
    "ax.xaxis.set_ticks_position('bottom')\n",
    "ax.yaxis.set_ticks_position('left')\n",
    "ax.tick_params(labelsize=FONT_SIZE, pad=2)\n",
    "legend = plt.legend(loc='upper right', numpoints=1, bbox_to_anchor=(1.05, 0.96),\n",
    "                    ncol=1, prop={'size': FONT_SIZE}, columnspacing=0.5,\n",
    "                    handlelength=HANDLE_LENGTH, handletextpad=0.5)\n",
    "legend.set_frame_on(False)\n",
    "plt.savefig('anneal.pdf', bbox_inches='tight')"
   ]
  },
  {
   "cell_type": "code",
   "execution_count": null,
   "metadata": {
    "scrolled": true
   },
   "outputs": [],
   "source": [
    "for i in range(10):\n",
    "    ov = get_overlay_from_perm(cb.data[i][0])\n",
    "    INP.overlay = ov\n",
    "    draw_overlay_over_tenant(INP)"
   ]
  },
  {
   "cell_type": "code",
   "execution_count": null,
   "metadata": {},
   "outputs": [],
   "source": []
  },
  {
   "cell_type": "code",
   "execution_count": null,
   "metadata": {},
   "outputs": [],
   "source": []
  },
  {
   "cell_type": "code",
   "execution_count": null,
   "metadata": {},
   "outputs": [],
   "source": [
    "\n"
   ]
  },
  {
   "cell_type": "code",
   "execution_count": null,
   "metadata": {},
   "outputs": [],
   "source": []
  }
 ],
 "metadata": {
  "kernelspec": {
   "display_name": "Python 3",
   "language": "python",
   "name": "python3"
  },
  "language_info": {
   "codemirror_mode": {
    "name": "ipython",
    "version": 3
   },
   "file_extension": ".py",
   "mimetype": "text/x-python",
   "name": "python",
   "nbconvert_exporter": "python",
   "pygments_lexer": "ipython3",
   "version": "3.7.6"
  }
 },
 "nbformat": 4,
 "nbformat_minor": 4
}
